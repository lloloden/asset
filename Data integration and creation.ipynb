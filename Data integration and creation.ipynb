{
 "cells": [
  {
   "cell_type": "code",
   "execution_count": 31,
   "metadata": {
    "datalore": {
     "hide_input_from_viewers": false,
     "hide_output_from_viewers": false,
     "node_id": "qP6X6LSMflAhCz9IB4jTlU",
     "report_properties": {
      "relativeY": 0,
      "rowId": "fFy6fIyZtpVgfIpV2nT6S4"
     },
     "type": "CODE"
    }
   },
   "outputs": [],
   "source": [
    "import numpy as np\n",
    "import pandas as pd\n",
    "import seaborn as sns\n",
    "import matplotlib.pyplot as plt\n",
    "import math as math\n",
    "import csv\n",
    "import pandas as pd\n",
    "import csv\n",
    "import re\n",
    "from datetime import datetime"
   ]
  },
  {
   "cell_type": "code",
   "execution_count": 32,
   "metadata": {},
   "outputs": [],
   "source": [
    "#First of all, txt files are parsed"
   ]
  },
  {
   "cell_type": "code",
   "execution_count": 33,
   "metadata": {
    "datalore": {
     "hide_input_from_viewers": false,
     "hide_output_from_viewers": false,
     "node_id": "K7PoUJQ0luWwEJxLAONyHR",
     "report_properties": {
      "relativeY": 0,
      "rowId": "pMMomToCm9AyW9NYNPy1HR"
     },
     "type": "CODE"
    }
   },
   "outputs": [],
   "source": [
    "# RIPE NCC DATAFRAME\n",
    "filename = '/home/zandred/environments/my_env/include/ripencc_as-set_db.txt'\n",
    "\n",
    "with open(filename, 'r', encoding=\"ISO-8859-1\",) as file:\n",
    "    lines = file.readlines()\n",
    "\n",
    "# Define 'source' as the last column in the dictionary\n",
    "data = {'as-set': [], 'descr': [], 'members': [], 'last-modified': [], 'source': []}\n",
    "current_as_set = current_descr = current_members = current_last_modified = current_source = ''\n",
    "\n",
    "for line in lines:\n",
    "    if line.startswith('as-set:'):\n",
    "        if current_as_set:\n",
    "            data['as-set'].append(current_as_set)\n",
    "            data['descr'].append(current_descr)\n",
    "            data['members'].append(current_members.rstrip(', '))\n",
    "            data['last-modified'].append(current_last_modified)\n",
    "            data['source'].append(current_source)\n",
    "        split_line = line.strip().split(':', 1)\n",
    "        current_as_set = split_line[1].strip() if len(split_line) > 1 else ''\n",
    "        current_descr = current_members = current_last_modified = current_source = ''\n",
    "    elif line.startswith('descr:'):\n",
    "        split_line = line.strip().split(':', 1)\n",
    "        current_descr = split_line[1].strip() if len(split_line) > 1 else ''\n",
    "    elif line.startswith('members:'):\n",
    "        new_members = re.findall('AS[\\w-]+', line)\n",
    "        if new_members:\n",
    "            current_members += ', '.join(new_members) + ', '\n",
    "    elif line.startswith('last-modified:'):\n",
    "        split_line = line.strip().split(':', 1)\n",
    "        date_str = split_line[1].strip() if len(split_line) > 1 else ''\n",
    "        date_str = date_str.split('T')[0] # Take only the date part before 'T'\n",
    "        if date_str:\n",
    "            date_obj = datetime.strptime(date_str, '%Y-%m-%d') # Convert to datetime object\n",
    "            current_last_modified = date_obj.strftime('%d-%m-%Y') # Convert to the desired format\n",
    "    elif line.startswith('source:'):\n",
    "        split_line = line.strip().split(':', 1)\n",
    "        current_source = split_line[1].strip() if len(split_line) > 1 else ''\n",
    "\n",
    "# Add the last entry\n",
    "data['as-set'].append(current_as_set)\n",
    "data['descr'].append(current_descr)\n",
    "data['members'].append(current_members.rstrip(', '))\n",
    "data['last-modified'].append(current_last_modified)\n",
    "data['source'].append(current_source)\n",
    "\n",
    "df_ripe = pd.DataFrame(data)\n",
    "\n",
    "def count_as_members(members_str):\n",
    "    if not members_str:\n",
    "        return 0\n",
    "    members_list = members_str.split(', ')\n",
    "    return len(members_list)\n",
    "\n",
    "df_ripe['AS_count'] = df_ripe['members'].apply(count_as_members)\n",
    "df_ripe['as-set'] = df_ripe['as-set'].str.strip()"
   ]
  },
  {
   "cell_type": "code",
   "execution_count": 34,
   "metadata": {
    "datalore": {
     "hide_input_from_viewers": true,
     "hide_output_from_viewers": true,
     "node_id": "Fy3URjFMpeXLtEjKmM7Dz9",
     "type": "CODE"
    }
   },
   "outputs": [
    {
     "data": {
      "text/plain": [
       "(24522, 6)"
      ]
     },
     "execution_count": 34,
     "metadata": {},
     "output_type": "execute_result"
    }
   ],
   "source": [
    "df_ripe.shape"
   ]
  },
  {
   "cell_type": "code",
   "execution_count": 35,
   "metadata": {
    "datalore": {
     "hide_input_from_viewers": false,
     "hide_output_from_viewers": false,
     "node_id": "TSfYPvwZhUEViZprzhwv3j",
     "report_properties": {
      "relativeY": 0,
      "rowId": "XJiyWLtagnjGVNDtVxKTjK"
     },
     "type": "CODE"
    }
   },
   "outputs": [],
   "source": [
    "#APNIC DATAFRAME\n",
    "filename = '/home/zandred/environments/my_env/include/apnic_as-set_db.txt'\n",
    "\n",
    "with open(filename,'r', encoding=\"ISO-8859-1\",) as file:\n",
    "    lines = file.readlines()\n",
    "\n",
    "# Define 'source' as the last column in the dictionary\n",
    "data = {'as-set': [], 'descr': [], 'members': [], 'last-modified': [], 'source': []}\n",
    "current_as_set = current_descr = current_members = current_last_modified = current_source = ''\n",
    "\n",
    "for line in lines:\n",
    "    if line.startswith('as-set:'):\n",
    "        if current_as_set:\n",
    "            data['as-set'].append(current_as_set)\n",
    "            data['descr'].append(current_descr)\n",
    "            data['members'].append(current_members.rstrip(', '))\n",
    "            data['last-modified'].append(current_last_modified)\n",
    "            data['source'].append(current_source)\n",
    "        split_line = line.strip().split(' ', 1)\n",
    "        current_as_set = split_line[1] if len(split_line) > 1 else ''\n",
    "        current_members = ''\n",
    "    elif line.startswith('descr:'):\n",
    "        split_line = line.strip().split(' ', 1)\n",
    "        current_descr = split_line[1] if len(split_line) > 1 else ''\n",
    "    elif line.startswith('members:'):\n",
    "        new_members = re.findall('(?i)AS[\\w-]+', line)\n",
    "        if new_members:\n",
    "            current_members += ', '.join(new_members) + ', '\n",
    "    elif line.startswith('last-modified:'):\n",
    "        split_line = line.strip().split(' ', 1)\n",
    "        date_str = split_line[1] if len(split_line) > 1 else ''\n",
    "        date_str = date_str.split('T')[0] # Take only the date part before 'T'\n",
    "        date_str = date_str.strip() # Remove leading and trailing whitespaces\n",
    "        if date_str:\n",
    "            date_obj = datetime.strptime(date_str, '%Y-%m-%d') # Convert to datetime object\n",
    "            current_last_modified = date_obj.strftime('%d-%m-%Y') # Convert to the desired format\n",
    "    elif line.startswith('source:'):\n",
    "        split_line = line.strip().split(' ', 1)\n",
    "        current_source = split_line[1] if len(split_line) > 1 else ''\n",
    "\n",
    "# Add the last entry\n",
    "data['as-set'].append(current_as_set)\n",
    "data['descr'].append(current_descr)\n",
    "data['members'].append(current_members.rstrip(', '))\n",
    "data['last-modified'].append(current_last_modified)\n",
    "data['source'].append(current_source)\n",
    "\n",
    "df_apnic = pd.DataFrame(data)\n",
    "\n",
    "def count_as_members(members_str):\n",
    "    if not members_str:\n",
    "        return 0\n",
    "    members_list = members_str.split(', ')\n",
    "    return len(members_list)\n",
    "\n",
    "df_apnic['AS_count'] = df_apnic['members'].apply(count_as_members)\n",
    "df_apnic['as-set'] = df_apnic['as-set'].str.strip()"
   ]
  },
  {
   "cell_type": "code",
   "execution_count": 36,
   "metadata": {},
   "outputs": [
    {
     "data": {
      "text/plain": [
       "(3653, 6)"
      ]
     },
     "execution_count": 36,
     "metadata": {},
     "output_type": "execute_result"
    }
   ],
   "source": [
    "df_apnic.shape"
   ]
  },
  {
   "cell_type": "code",
   "execution_count": 37,
   "metadata": {
    "datalore": {
     "hide_input_from_viewers": false,
     "hide_output_from_viewers": false,
     "node_id": "6pxsKe3LPbvP2OPsfxI56X",
     "report_properties": {
      "relativeY": 0,
      "rowId": "Nde9kMLk4WzlhP8w2Tuz8k"
     },
     "type": "CODE"
    }
   },
   "outputs": [],
   "source": [
    "#ARIN DATAFRAME\n",
    "filename = '/home/zandred/environments/my_env/include/arin_as-set_db.txt'\n",
    "\n",
    "with open(filename,'r', encoding=\"ISO-8859-1\",) as file:\n",
    "    lines = file.readlines()\n",
    "\n",
    "data = {'as-set': [], 'descr': [], 'members': [], 'last-modified': [], 'source': []}\n",
    "current_as_set = current_descr = current_members = current_last_modified = current_source = ''\n",
    "\n",
    "for line in lines:\n",
    "    if line.startswith('as-set:'):\n",
    "        if current_as_set:\n",
    "            data['as-set'].append(current_as_set)\n",
    "            data['descr'].append(current_descr)\n",
    "            data['members'].append(current_members.rstrip(', '))\n",
    "            data['last-modified'].append(current_last_modified)\n",
    "            data['source'].append(current_source)\n",
    "        split_line = line.strip().split(' ', 1)\n",
    "        current_as_set = split_line[1] if len(split_line) > 1 else ''\n",
    "        current_members = ''\n",
    "    elif line.startswith('descr:'):\n",
    "        split_line = line.strip().split(' ', 1)\n",
    "        current_descr = split_line[1] if len(split_line) > 1 else ''\n",
    "    elif line.startswith('members:'):\n",
    "        new_members = re.findall('(?i)AS[\\w-]+', line)\n",
    "        if new_members:\n",
    "            current_members += ', '.join(new_members) + ', '\n",
    "    elif 'last-modified:' in line:\n",
    "        split_line = line.strip().split(' ', 1)\n",
    "        date_str = split_line[1].split('T')[0].strip() if len(split_line) > 1 else ''\n",
    "        if date_str:\n",
    "            date_obj = datetime.strptime(date_str, '%Y-%m-%d') # Convert to datetime object\n",
    "            current_last_modified = date_obj.strftime('%d-%m-%Y') # Convert to the desired format\n",
    "    elif 'changed:' in line and not current_last_modified:\n",
    "        split_line = line.split('changed:')[1].strip().split(' ')\n",
    "        if len(split_line) > 1:  # if there is email and date\n",
    "            date_str = split_line[1].strip()  # get the date string and strip any leading or trailing spaces\n",
    "            if date_str and len(date_str) == 8:  # check if date_str is not empty and if it's the correct length\n",
    "                try:\n",
    "                    date_obj = datetime.strptime(date_str, '%Y%m%d')  # convert to datetime object\n",
    "                    current_last_modified = date_obj.strftime('%d-%m-%Y')  # convert to the desired format\n",
    "                except ValueError:\n",
    "                    print(f\"Failed to parse date: {date_str}\")\n",
    "                    current_last_modified = ''\n",
    "    elif line.startswith('source:'):\n",
    "        split_line = line.strip().split(' ', 1)\n",
    "        current_source = split_line[1] if len(split_line) > 1 else ''\n",
    "\n",
    "data['as-set'].append(current_as_set)\n",
    "data['descr'].append(current_descr)\n",
    "data['members'].append(current_members.rstrip(', '))\n",
    "data['last-modified'].append(current_last_modified)\n",
    "data['source'].append(current_source)\n",
    "\n",
    "df_arin = pd.DataFrame(data)\n",
    "\n",
    "def count_as_members(members_str):\n",
    "    if not members_str:\n",
    "        return 0\n",
    "    members_list = members_str.split(', ')\n",
    "    return len(members_list)\n",
    "\n",
    "df_arin['AS_count'] = df_arin['members'].apply(count_as_members)\n",
    "df_arin['as-set'] = df_arin['as-set'].str.strip()"
   ]
  },
  {
   "cell_type": "code",
   "execution_count": 38,
   "metadata": {
    "datalore": {
     "hide_input_from_viewers": false,
     "hide_output_from_viewers": false,
     "node_id": "tgiZSE4lFpkqllpnlpjly9",
     "report_properties": {
      "relativeY": 0,
      "rowId": "XqVVYWrEYGNZYwk8qldBF2"
     },
     "type": "CODE"
    }
   },
   "outputs": [
    {
     "data": {
      "text/plain": [
       "(3618, 6)"
      ]
     },
     "execution_count": 38,
     "metadata": {},
     "output_type": "execute_result"
    }
   ],
   "source": [
    "df_arin.shape"
   ]
  },
  {
   "cell_type": "code",
   "execution_count": 39,
   "metadata": {
    "datalore": {
     "hide_input_from_viewers": false,
     "hide_output_from_viewers": false,
     "node_id": "1IREDuAdoCxghp2rfDL7mH",
     "report_properties": {
      "relativeY": 0,
      "rowId": "I6dudK2epuIBw7Fe9yqIMj"
     },
     "type": "CODE"
    }
   },
   "outputs": [],
   "source": [
    "#LAPNIC DATAFRAME\n",
    "filename = '/home/zandred/environments/my_env/include/lacnic_as-set_db.txt'\n",
    "\n",
    "with open(filename,'r', encoding=\"ISO-8859-1\",) as file:\n",
    "    lines = file.readlines()\n",
    "\n",
    "data = {'as-set': [], 'descr': [], 'members': [], 'last-modified': [], 'source': []}\n",
    "current_as_set = current_descr = current_members = current_last_modified = current_source = ''\n",
    "\n",
    "for line in lines:\n",
    "    if line.startswith('as-set:'):\n",
    "        if current_as_set:\n",
    "            data['as-set'].append(current_as_set)\n",
    "            data['descr'].append(current_descr)\n",
    "            data['members'].append(current_members.rstrip(', '))\n",
    "            data['last-modified'].append(current_last_modified)\n",
    "            data['source'].append(current_source)\n",
    "        split_line = line.strip().split(' ', 1)\n",
    "        current_as_set = split_line[1] if len(split_line) > 1 else ''\n",
    "        current_members = ''\n",
    "    elif line.startswith('descr:'):\n",
    "        split_line = line.strip().split(' ', 1)\n",
    "        current_descr = split_line[1] if len(split_line) > 1 else ''\n",
    "    elif line.startswith('members:'):\n",
    "        new_members = re.findall('(?i)AS[\\w-]+', line)\n",
    "        if new_members:\n",
    "            current_members += ', '.join(new_members) + ', '\n",
    "    elif 'changed:' in line:\n",
    "        split_line = line.split('changed:')[1].strip().split(' ')\n",
    "        if len(split_line) > 1:  # if there is email and date\n",
    "            date_str = split_line[1].strip()  # get the date string and strip any leading or trailing spaces\n",
    "            if date_str and len(date_str) == 8:  # check if date_str is not empty and if it's the correct length\n",
    "                    date_obj = datetime.strptime(date_str, '%Y%m%d')  # convert to datetime object\n",
    "                    current_last_modified = date_obj.strftime('%d-%m-%Y')  # convert to the desired format\n",
    "    elif line.startswith('source:'):\n",
    "        split_line = line.strip().split(' ', 1)\n",
    "        current_source = split_line[1] if len(split_line) > 1 else ''\n",
    "\n",
    "data['as-set'].append(current_as_set)\n",
    "data['descr'].append(current_descr)\n",
    "data['members'].append(current_members.rstrip(', '))\n",
    "data['last-modified'].append(current_last_modified)\n",
    "data['source'].append(current_source)\n",
    "\n",
    "df_lapnic = pd.DataFrame(data)\n",
    "\n",
    "def count_as_members(members_str):\n",
    "    if not members_str:\n",
    "        return 0\n",
    "    members_list = members_str.split(', ')\n",
    "    return len(members_list)\n",
    "\n",
    "df_lapnic['AS_count'] = df_lapnic['members'].apply(count_as_members)\n",
    "df_lapnic['as-set'] = df_lapnic['as-set'].str.strip()"
   ]
  },
  {
   "cell_type": "code",
   "execution_count": 40,
   "metadata": {
    "datalore": {
     "hide_input_from_viewers": false,
     "hide_output_from_viewers": false,
     "node_id": "Wdw1W3r1r8RsBuYHWJ2fGi",
     "report_properties": {
      "relativeY": 0,
      "rowId": "5oVUgmbTHpuAT8g7egx4ZD"
     },
     "type": "CODE"
    }
   },
   "outputs": [
    {
     "data": {
      "text/plain": [
       "(1149, 6)"
      ]
     },
     "execution_count": 40,
     "metadata": {},
     "output_type": "execute_result"
    }
   ],
   "source": [
    "df_lapnic.shape"
   ]
  },
  {
   "cell_type": "code",
   "execution_count": 41,
   "metadata": {
    "datalore": {
     "hide_input_from_viewers": false,
     "hide_output_from_viewers": false,
     "node_id": "zh6eAagTJFfNpFme1dIM5s",
     "report_properties": {
      "relativeY": 0,
      "rowId": "vymoDH3Db8FymDsmYh27LK"
     },
     "type": "CODE"
    }
   },
   "outputs": [],
   "source": [
    "#AFRINIC DATAFRAME\n",
    "filename = '/home/zandred/environments/my_env/include/afrinic_as-set_db.txt'\n",
    "\n",
    "with open(filename,'r', encoding=\"ISO-8859-1\",) as file:\n",
    "    lines = file.readlines()\n",
    "\n",
    "data = {'as-set': [], 'descr': [], 'members': [], 'last-modified': [], 'source': []}\n",
    "current_as_set = current_descr = current_members = current_last_modified = current_source = ''\n",
    "\n",
    "for line in lines:\n",
    "    if line.startswith('as-set:'):\n",
    "        if current_as_set:\n",
    "            data['as-set'].append(current_as_set)\n",
    "            data['descr'].append(current_descr)\n",
    "            data['members'].append(current_members.rstrip(', '))\n",
    "            data['last-modified'].append(current_last_modified)\n",
    "            data['source'].append(current_source)\n",
    "        split_line = line.strip().split(' ', 1)\n",
    "        current_as_set = split_line[1] if len(split_line) > 1 else ''\n",
    "        current_members = ''\n",
    "    elif line.startswith('descr:'):\n",
    "        split_line = line.strip().split(' ', 1)\n",
    "        current_descr = split_line[1] if len(split_line) > 1 else ''\n",
    "    elif line.startswith('members:'):\n",
    "        new_members = re.findall('(?i)AS[\\w-]+', line)\n",
    "        if new_members:\n",
    "            current_members += ', '.join(new_members) + ', '\n",
    "    elif 'changed:' in line:\n",
    "        split_line = line.split('changed:')[1].strip().split(' ')\n",
    "        if len(split_line) > 1:  # if there is email and date\n",
    "            date_str = split_line[1].strip()  # get the date string and strip any leading or trailing spaces\n",
    "            if date_str and len(date_str) == 8:  # check if date_str is not empty and if it's the correct length\n",
    "                    date_obj = datetime.strptime(date_str, '%Y%m%d')  # convert to datetime object\n",
    "                    current_last_modified = date_obj.strftime('%d-%m-%Y')  # convert to the desired format\n",
    "    elif line.startswith('source:'):\n",
    "        split_line = line.strip().split(' ', 1)\n",
    "        current_source = split_line[1] if len(split_line) > 1 else ''\n",
    "\n",
    "data['as-set'].append(current_as_set)\n",
    "data['descr'].append(current_descr)\n",
    "data['members'].append(current_members.rstrip(', '))\n",
    "data['last-modified'].append(current_last_modified)\n",
    "data['source'].append(current_source)\n",
    "\n",
    "df_afrinic = pd.DataFrame(data)\n",
    "\n",
    "def count_as_members(members_str):\n",
    "    if not members_str:\n",
    "        return 0\n",
    "    members_list = members_str.split(', ')\n",
    "    return len(members_list)\n",
    "\n",
    "df_afrinic['AS_count'] = df_afrinic['members'].apply(count_as_members)\n",
    "df_afrinic['as-set'] = df_afrinic['as-set'].str.strip()"
   ]
  },
  {
   "cell_type": "code",
   "execution_count": 42,
   "metadata": {},
   "outputs": [
    {
     "data": {
      "text/plain": [
       "(1008, 6)"
      ]
     },
     "execution_count": 42,
     "metadata": {},
     "output_type": "execute_result"
    }
   ],
   "source": [
    "df_afrinic.shape"
   ]
  },
  {
   "cell_type": "code",
   "execution_count": 43,
   "metadata": {
    "datalore": {
     "hide_input_from_viewers": true,
     "hide_output_from_viewers": true,
     "node_id": "fRTPpXTNULFFJgOhWyM0SI",
     "type": "CODE"
    }
   },
   "outputs": [],
   "source": [
    "#combined dataframe\n",
    "df = pd.concat([df_ripe, df_apnic, df_arin, df_lapnic, df_afrinic]).reset_index(drop=True)"
   ]
  },
  {
   "cell_type": "code",
   "execution_count": 44,
   "metadata": {
    "datalore": {
     "hide_input_from_viewers": false,
     "hide_output_from_viewers": false,
     "node_id": "tnPewM0F9fS5VMZlECtOOP",
     "report_properties": {
      "relativeY": 0,
      "rowId": "kZai02YFb17m9K7NMC4CL9"
     },
     "type": "CODE"
    }
   },
   "outputs": [
    {
     "data": {
      "text/plain": [
       "(33950, 6)"
      ]
     },
     "execution_count": 44,
     "metadata": {},
     "output_type": "execute_result"
    }
   ],
   "source": [
    "df.shape"
   ]
  },
  {
   "cell_type": "code",
   "execution_count": 45,
   "metadata": {},
   "outputs": [
    {
     "data": {
      "text/plain": [
       "<bound method NDFrame.describe of                   as-set                                              descr  \\\n",
       "0             AS-RESTENA    Educational and research network for Luxembourg   \n",
       "1        AS-TMPEBONECWIX                       CWIX ASes announced to EBONE   \n",
       "2      AS-DFNFROMCOLOGNE  ASs accepted by DFN from the University of Col...   \n",
       "3          AS-NETMATTERS                                      NetMatters UK   \n",
       "4             AS-UDNGRAZ                                  UDN Graz AS Macro   \n",
       "...                  ...                                                ...   \n",
       "33945            AS-3576                                      Accenture JHB   \n",
       "33946     AS-SET-AFRINET                         Kinshasa Afrinet sa AS-SET   \n",
       "33947          AS-328700                                          TISPA-CDN   \n",
       "33948          as-329236                          Teltwine Networks Limited   \n",
       "33949             as-mtn                                     For MTN as-set   \n",
       "\n",
       "                                                 members last-modified  \\\n",
       "0               AS2602, AS42909, AS51966, AS-LXP, AS-VDL    08-09-2022   \n",
       "1      AS3727, AS4445, AS4610, AS4624, AS4637, AS4654...    21-09-2001   \n",
       "2                                         AS5520, AS6733    12-04-2010   \n",
       "3                                         AS6765, AS3344    21-09-2001   \n",
       "4                 AS1113, AS1114, AS1118, AS2604, AS2036    05-04-2017   \n",
       "...                                                  ...           ...   \n",
       "33945                                                       31-05-2023   \n",
       "33946                                            AS37415    31-05-2023   \n",
       "33947                                  AS328700, AS20940    31-05-2023   \n",
       "33948                                                       01-06-2023   \n",
       "33949                                                       01-06-2023   \n",
       "\n",
       "                source  AS_count  \n",
       "0                 RIPE         5  \n",
       "1                 RIPE        24  \n",
       "2                 RIPE         2  \n",
       "3                 RIPE         2  \n",
       "4                 RIPE         5  \n",
       "...                ...       ...  \n",
       "33945          AFRINIC         0  \n",
       "33946          AFRINIC         1  \n",
       "33947          AFRINIC         2  \n",
       "33948          AFRINIC         0  \n",
       "33949          AFRINIC         0  \n",
       "\n",
       "[33950 rows x 6 columns]>"
      ]
     },
     "execution_count": 45,
     "metadata": {},
     "output_type": "execute_result"
    }
   ],
   "source": [
    "df.describe"
   ]
  },
  {
   "cell_type": "code",
   "execution_count": 46,
   "metadata": {
    "datalore": {
     "hide_input_from_viewers": false,
     "hide_output_from_viewers": false,
     "node_id": "10jrwxyJaD5lIDp7MNHZfC",
     "report_properties": {
      "relativeY": 0,
      "rowId": "JrXgM6Gut0xjdI4cC1vH57"
     },
     "type": "CODE"
    }
   },
   "outputs": [],
   "source": [
    "# Find the instances with no members\n",
    "no_members = df[df['members'].str.len() == 0]"
   ]
  },
  {
   "cell_type": "code",
   "execution_count": 47,
   "metadata": {
    "datalore": {
     "hide_input_from_viewers": false,
     "hide_output_from_viewers": false,
     "node_id": "qGRWdQHfMnzwc7t4c6K8aU",
     "report_properties": {
      "relativeY": 0,
      "rowId": "AjnxEpAmQKEKh5s3hSQXvh"
     },
     "type": "CODE"
    }
   },
   "outputs": [
    {
     "data": {
      "text/html": [
       "<div>\n",
       "<style scoped>\n",
       "    .dataframe tbody tr th:only-of-type {\n",
       "        vertical-align: middle;\n",
       "    }\n",
       "\n",
       "    .dataframe tbody tr th {\n",
       "        vertical-align: top;\n",
       "    }\n",
       "\n",
       "    .dataframe thead th {\n",
       "        text-align: right;\n",
       "    }\n",
       "</style>\n",
       "<table border=\"1\" class=\"dataframe\">\n",
       "  <thead>\n",
       "    <tr style=\"text-align: right;\">\n",
       "      <th></th>\n",
       "      <th>as-set</th>\n",
       "      <th>descr</th>\n",
       "      <th>members</th>\n",
       "      <th>last-modified</th>\n",
       "      <th>source</th>\n",
       "      <th>AS_count</th>\n",
       "    </tr>\n",
       "  </thead>\n",
       "  <tbody>\n",
       "    <tr>\n",
       "      <th>275</th>\n",
       "      <td>as-LevelThreeEU</td>\n",
       "      <td>European Level3 Macro</td>\n",
       "      <td></td>\n",
       "      <td>01-05-2002</td>\n",
       "      <td>RIPE</td>\n",
       "      <td>0</td>\n",
       "    </tr>\n",
       "    <tr>\n",
       "      <th>282</th>\n",
       "      <td>AS-ISEUROPE</td>\n",
       "      <td>old macro, see AS4589 and AS-EASYNET for curre...</td>\n",
       "      <td></td>\n",
       "      <td>16-05-2003</td>\n",
       "      <td>RIPE</td>\n",
       "      <td>0</td>\n",
       "    </tr>\n",
       "    <tr>\n",
       "      <th>350</th>\n",
       "      <td>AS-CASTEL</td>\n",
       "      <td>Essent Kabelcom Internet AS Macro</td>\n",
       "      <td></td>\n",
       "      <td>06-12-2006</td>\n",
       "      <td>RIPE</td>\n",
       "      <td>0</td>\n",
       "    </tr>\n",
       "    <tr>\n",
       "      <th>382</th>\n",
       "      <td>AS-SILVERCOM</td>\n",
       "      <td>ASes exported by SILVERCOM to the world</td>\n",
       "      <td></td>\n",
       "      <td>16-10-2009</td>\n",
       "      <td>RIPE</td>\n",
       "      <td>0</td>\n",
       "    </tr>\n",
       "    <tr>\n",
       "      <th>479</th>\n",
       "      <td>AS-SUNRISE</td>\n",
       "      <td>sunrise / TDC Switzerland AG</td>\n",
       "      <td></td>\n",
       "      <td>11-01-2002</td>\n",
       "      <td>RIPE</td>\n",
       "      <td>0</td>\n",
       "    </tr>\n",
       "    <tr>\n",
       "      <th>...</th>\n",
       "      <td>...</td>\n",
       "      <td>...</td>\n",
       "      <td>...</td>\n",
       "      <td>...</td>\n",
       "      <td>...</td>\n",
       "      <td>...</td>\n",
       "    </tr>\n",
       "    <tr>\n",
       "      <th>33935</th>\n",
       "      <td>AS-AMS-IX-LAG-RS-SETS-V6</td>\n",
       "      <td>AMS-IX LAG route server (37783) IPv6 ...</td>\n",
       "      <td></td>\n",
       "      <td>15-05-2023</td>\n",
       "      <td>AFRINIC</td>\n",
       "      <td>0</td>\n",
       "    </tr>\n",
       "    <tr>\n",
       "      <th>33940</th>\n",
       "      <td>AS-SET-POWERNET</td>\n",
       "      <td>POWERNET AS SET</td>\n",
       "      <td></td>\n",
       "      <td>24-05-2023</td>\n",
       "      <td>AFRINIC</td>\n",
       "      <td>0</td>\n",
       "    </tr>\n",
       "    <tr>\n",
       "      <th>33945</th>\n",
       "      <td>AS-3576</td>\n",
       "      <td>Accenture JHB</td>\n",
       "      <td></td>\n",
       "      <td>31-05-2023</td>\n",
       "      <td>AFRINIC</td>\n",
       "      <td>0</td>\n",
       "    </tr>\n",
       "    <tr>\n",
       "      <th>33948</th>\n",
       "      <td>as-329236</td>\n",
       "      <td>Teltwine Networks Limited</td>\n",
       "      <td></td>\n",
       "      <td>01-06-2023</td>\n",
       "      <td>AFRINIC</td>\n",
       "      <td>0</td>\n",
       "    </tr>\n",
       "    <tr>\n",
       "      <th>33949</th>\n",
       "      <td>as-mtn</td>\n",
       "      <td>For MTN as-set</td>\n",
       "      <td></td>\n",
       "      <td>01-06-2023</td>\n",
       "      <td>AFRINIC</td>\n",
       "      <td>0</td>\n",
       "    </tr>\n",
       "  </tbody>\n",
       "</table>\n",
       "<p>3100 rows × 6 columns</p>\n",
       "</div>"
      ],
      "text/plain": [
       "                         as-set  \\\n",
       "275             as-LevelThreeEU   \n",
       "282                 AS-ISEUROPE   \n",
       "350                   AS-CASTEL   \n",
       "382                AS-SILVERCOM   \n",
       "479                  AS-SUNRISE   \n",
       "...                         ...   \n",
       "33935  AS-AMS-IX-LAG-RS-SETS-V6   \n",
       "33940           AS-SET-POWERNET   \n",
       "33945                   AS-3576   \n",
       "33948                 as-329236   \n",
       "33949                    as-mtn   \n",
       "\n",
       "                                                   descr members  \\\n",
       "275                                European Level3 Macro           \n",
       "282    old macro, see AS4589 and AS-EASYNET for curre...           \n",
       "350                    Essent Kabelcom Internet AS Macro           \n",
       "382              ASes exported by SILVERCOM to the world           \n",
       "479                         sunrise / TDC Switzerland AG           \n",
       "...                                                  ...     ...   \n",
       "33935           AMS-IX LAG route server (37783) IPv6 ...           \n",
       "33940                                    POWERNET AS SET           \n",
       "33945                                      Accenture JHB           \n",
       "33948                          Teltwine Networks Limited           \n",
       "33949                                     For MTN as-set           \n",
       "\n",
       "      last-modified           source  AS_count  \n",
       "275      01-05-2002             RIPE         0  \n",
       "282      16-05-2003             RIPE         0  \n",
       "350      06-12-2006             RIPE         0  \n",
       "382      16-10-2009             RIPE         0  \n",
       "479      11-01-2002             RIPE         0  \n",
       "...             ...              ...       ...  \n",
       "33935    15-05-2023          AFRINIC         0  \n",
       "33940    24-05-2023          AFRINIC         0  \n",
       "33945    31-05-2023          AFRINIC         0  \n",
       "33948    01-06-2023          AFRINIC         0  \n",
       "33949    01-06-2023          AFRINIC         0  \n",
       "\n",
       "[3100 rows x 6 columns]"
      ]
     },
     "execution_count": 47,
     "metadata": {},
     "output_type": "execute_result"
    }
   ],
   "source": [
    "no_members"
   ]
  },
  {
   "cell_type": "code",
   "execution_count": 48,
   "metadata": {
    "datalore": {
     "hide_input_from_viewers": false,
     "hide_output_from_viewers": false,
     "node_id": "OegznrfkPYjyiMLuHxpNht",
     "report_properties": {
      "relativeY": 0,
      "rowId": "7Eie7wwOZsDbkdrJI8RO6F"
     },
     "type": "CODE"
    }
   },
   "outputs": [
    {
     "name": "stdout",
     "output_type": "stream",
     "text": [
      "Biggest AS-SET in terms of AS_count:\n",
      "as-set                                            AS-UBNIX-MEMBERS\n",
      "descr            Ukrainian Backbone Networks Internet Exchange ...\n",
      "members          AS35336, AS398112, AS44884, AS138889, AS35549,...\n",
      "last-modified                                           02-06-2023\n",
      "source                                                        RIPE\n",
      "AS_count                                                     19978\n",
      "Name: 12157, dtype: object\n"
     ]
    }
   ],
   "source": [
    "max_as_set = df.loc[df['AS_count'].idxmax()]\n",
    "print(\"Biggest AS-SET in terms of AS_count:\")\n",
    "print(max_as_set)"
   ]
  },
  {
   "cell_type": "code",
   "execution_count": 49,
   "metadata": {
    "datalore": {
     "hide_input_from_viewers": true,
     "hide_output_from_viewers": true,
     "node_id": "PFj679Zco5ESoGBRzVKy6T",
     "type": "CODE"
    }
   },
   "outputs": [
    {
     "name": "stdout",
     "output_type": "stream",
     "text": [
      "Empty DataFrame\n",
      "Columns: [as-set, descr, members, last-modified, source, AS_count]\n",
      "Index: []\n"
     ]
    }
   ],
   "source": [
    "# Check for duplicates\n",
    "duplicates = df.duplicated()\n",
    "\n",
    "# Print the duplicates\n",
    "print(df[duplicates])"
   ]
  },
  {
   "cell_type": "code",
   "execution_count": 50,
   "metadata": {
    "datalore": {
     "hide_input_from_viewers": false,
     "hide_output_from_viewers": false,
     "node_id": "LDxCrYceb8bfnIzvGVXhgx",
     "report_properties": {
      "relativeY": 0,
      "rowId": "ryyABXu4EurFnyOUmg48l9"
     },
     "type": "CODE"
    }
   },
   "outputs": [
    {
     "name": "stdout",
     "output_type": "stream",
     "text": [
      "Mean number of members:  12.647776141384389\n",
      "Median number of members:  2.0\n",
      "Standard deviation of members:  142.21700629993592\n",
      "Range of number of members:  19978\n"
     ]
    }
   ],
   "source": [
    "# calculate the mean, median, standard deviation, and range of the number of members\n",
    "mean = np.mean(df['AS_count'])\n",
    "median = np.median(df['AS_count'])\n",
    "std = np.std(df['AS_count'])\n",
    "min_num = min(df['AS_count'])\n",
    "max_num = max(df['AS_count'])\n",
    "range_num = max_num - min_num\n",
    "\n",
    "# print the results\n",
    "print(\"Mean number of members: \", mean)\n",
    "print(\"Median number of members: \", median)\n",
    "print(\"Standard deviation of members: \", std)\n",
    "print(\"Range of number of members: \", range_num)"
   ]
  },
  {
   "cell_type": "code",
   "execution_count": 51,
   "metadata": {
    "datalore": {
     "hide_input_from_viewers": false,
     "hide_output_from_viewers": true,
     "node_id": "uCQT4XkKchCxFaTGy0YS4r",
     "report_properties": {
      "relativeY": 0,
      "rowId": "n5mmGrgVr9q5RAcSkWhegV"
     },
     "type": "CODE"
    }
   },
   "outputs": [],
   "source": [
    "def calculate_cone(as_set, df):\n",
    "    visited = set()  # Visited AS-SETs\n",
    "    ases = set()  # Counted ASes\n",
    "    queue = [as_set]\n",
    "\n",
    "    while queue:\n",
    "        current = queue.pop(0)  # Process the first AS-SET in the queue\n",
    "        if current not in visited and current in df['as-set'].values:\n",
    "            visited.add(current)\n",
    "            members_str = df.loc[df['as-set'] == current, 'members'].values[0]\n",
    "            members = members_str.split(', ')\n",
    "\n",
    "            for member in members:\n",
    "                if member.startswith(('AS', 'as')) and member[2:].isdigit():\n",
    "                    ases.add(member)\n",
    "                elif member not in visited:  # Add unvisited AS-SETs to the queue\n",
    "                    queue.append(member)\n",
    "    return ases\n",
    "\n",
    "df['cone'] = df['as-set'].apply(lambda as_set: len(calculate_cone(as_set, df)))"
   ]
  },
  {
   "cell_type": "code",
   "execution_count": 52,
   "metadata": {
    "datalore": {
     "hide_input_from_viewers": false,
     "hide_output_from_viewers": false,
     "node_id": "cal1zj9X7trGfCFlBwn473",
     "report_properties": {
      "relativeY": 0,
      "rowId": "OMJ5TOkWlYL1PMqr4lKO8H"
     },
     "type": "CODE"
    }
   },
   "outputs": [],
   "source": [
    "# drop instances with AS_Count = 0\n",
    "df = df[df['AS_count'] != 0]\n",
    "\n",
    "# re-arrange the numbering\n",
    "df.reset_index(drop=True, inplace=True)"
   ]
  },
  {
   "cell_type": "code",
   "execution_count": 73,
   "metadata": {
    "datalore": {
     "hide_input_from_viewers": true,
     "hide_output_from_viewers": true,
     "node_id": "42swcnuNpEirALo8EDVoQh",
     "type": "CODE"
    }
   },
   "outputs": [],
   "source": [
    "def quantile_sample(df, column, sample_size_per_quantile):\n",
    "    samples = []\n",
    "    quantiles = np.linspace(0, 1, 6)\n",
    "    for i in range(len(quantiles) - 1):\n",
    "        condition = (df[column] >= df[column].quantile(quantiles[i])) & \\\n",
    "                    (df[column] < df[column].quantile(quantiles[i + 1]))\n",
    "        samples_subset = df[condition]\n",
    "        if not samples_subset.empty:  # Check if samples_subset is not empty\n",
    "            samples.append(samples_subset.sample(n=min(sample_size_per_quantile, len(samples_subset)), replace=True))  \n",
    "    return pd.concat(samples)\n",
    "\n",
    "def source_sample(df, sample_size_per_source):\n",
    "    return df.groupby('source').apply(lambda x: x.sample(n=min(sample_size_per_source, len(x)), replace=True)).reset_index(drop=True)\n",
    "\n",
    "# Desired total samples\n",
    "total_samples = 2370\n",
    "\n",
    "# Oversample each column\n",
    "oversample_factor = 2\n",
    "\n",
    "# Calculate samples per column with oversampling\n",
    "samples_per_column = total_samples * oversample_factor\n",
    "\n",
    "# Calculate samples per quantile\n",
    "quantiles = 5\n",
    "samples_per_quantile = samples_per_column // quantiles\n",
    "\n",
    "# Quantile samples\n",
    "cone_samples = quantile_sample(df, 'cone', samples_per_quantile)\n",
    "AS_count_samples = quantile_sample(df, 'AS_count', samples_per_quantile)\n",
    "num_samples = pd.concat([cone_samples, AS_count_samples])\n",
    "\n",
    "# Source samples\n",
    "unique_sources = df['source'].nunique()\n",
    "samples_per_source = samples_per_column // unique_sources\n",
    "source_samples = source_sample(df, samples_per_source)\n",
    "\n",
    "# Combine all samples\n",
    "all_samples = pd.concat([num_samples, source_samples])\n",
    "\n",
    "# Draw the desired number of samples from all samples\n",
    "df_for_classification = all_samples.sample(n=total_samples, replace=True).reset_index(drop=True)\n"
   ]
  },
  {
   "cell_type": "code",
   "execution_count": 74,
   "metadata": {
    "datalore": {
     "hide_input_from_viewers": true,
     "hide_output_from_viewers": true,
     "node_id": "1s3Yfl6sgw1O2JLQJzUpLp",
     "type": "CODE"
    }
   },
   "outputs": [
    {
     "data": {
      "text/html": [
       "<div>\n",
       "<style scoped>\n",
       "    .dataframe tbody tr th:only-of-type {\n",
       "        vertical-align: middle;\n",
       "    }\n",
       "\n",
       "    .dataframe tbody tr th {\n",
       "        vertical-align: top;\n",
       "    }\n",
       "\n",
       "    .dataframe thead th {\n",
       "        text-align: right;\n",
       "    }\n",
       "</style>\n",
       "<table border=\"1\" class=\"dataframe\">\n",
       "  <thead>\n",
       "    <tr style=\"text-align: right;\">\n",
       "      <th></th>\n",
       "      <th>as-set</th>\n",
       "      <th>descr</th>\n",
       "      <th>members</th>\n",
       "      <th>last-modified</th>\n",
       "      <th>source</th>\n",
       "      <th>AS_count</th>\n",
       "      <th>cone</th>\n",
       "    </tr>\n",
       "  </thead>\n",
       "  <tbody>\n",
       "    <tr>\n",
       "      <th>0</th>\n",
       "      <td>AS5592:AS-KHARKOV-IX:AS31069</td>\n",
       "      <td>United Networks of Ukraine ISP</td>\n",
       "      <td>AS-UNU-KHARKOV</td>\n",
       "      <td>21-09-2004</td>\n",
       "      <td>RIPE</td>\n",
       "      <td>1</td>\n",
       "      <td>3</td>\n",
       "    </tr>\n",
       "    <tr>\n",
       "      <th>1</th>\n",
       "      <td>AS-SYSTAILOR-JN</td>\n",
       "      <td></td>\n",
       "      <td>AS204869, AS-INNOTIP</td>\n",
       "      <td>15-03-2022</td>\n",
       "      <td>RIPE</td>\n",
       "      <td>2</td>\n",
       "      <td>2</td>\n",
       "    </tr>\n",
       "    <tr>\n",
       "      <th>2</th>\n",
       "      <td>AS-ZEBRA</td>\n",
       "      <td>Zebra Telecom AS's</td>\n",
       "      <td>AS15934</td>\n",
       "      <td>09-04-2015</td>\n",
       "      <td>RIPE</td>\n",
       "      <td>1</td>\n",
       "      <td>1</td>\n",
       "    </tr>\n",
       "    <tr>\n",
       "      <th>3</th>\n",
       "      <td>AS-VSI</td>\n",
       "      <td>VSI Voronezh AS Set</td>\n",
       "      <td>AS21017</td>\n",
       "      <td>27-08-2013</td>\n",
       "      <td>RIPE</td>\n",
       "      <td>1</td>\n",
       "      <td>1</td>\n",
       "    </tr>\n",
       "    <tr>\n",
       "      <th>4</th>\n",
       "      <td>AS-NAXEX</td>\n",
       "      <td></td>\n",
       "      <td>AS15504, AS60590</td>\n",
       "      <td>03-06-2019</td>\n",
       "      <td>RIPE</td>\n",
       "      <td>2</td>\n",
       "      <td>2</td>\n",
       "    </tr>\n",
       "    <tr>\n",
       "      <th>...</th>\n",
       "      <td>...</td>\n",
       "      <td>...</td>\n",
       "      <td>...</td>\n",
       "      <td>...</td>\n",
       "      <td>...</td>\n",
       "      <td>...</td>\n",
       "      <td>...</td>\n",
       "    </tr>\n",
       "    <tr>\n",
       "      <th>2365</th>\n",
       "      <td>AS-JYANG-UPSTREAMS</td>\n",
       "      <td></td>\n",
       "      <td>AS58057, AS31142</td>\n",
       "      <td>21-02-2022</td>\n",
       "      <td>RIPE</td>\n",
       "      <td>2</td>\n",
       "      <td>2</td>\n",
       "    </tr>\n",
       "    <tr>\n",
       "      <th>2366</th>\n",
       "      <td>AS-SARGASSO-DE</td>\n",
       "      <td>Sargasso Networks - announced from AS51983</td>\n",
       "      <td>AS51983</td>\n",
       "      <td>25-08-2022</td>\n",
       "      <td>RIPE</td>\n",
       "      <td>1</td>\n",
       "      <td>1</td>\n",
       "    </tr>\n",
       "    <tr>\n",
       "      <th>2367</th>\n",
       "      <td>AS134254:AS-SHAHINFINITE</td>\n",
       "      <td>Shah Infinite Solutions Pvt. Ltd.</td>\n",
       "      <td>AS134254, AS136284</td>\n",
       "      <td>27-12-2017</td>\n",
       "      <td>APNIC</td>\n",
       "      <td>2</td>\n",
       "      <td>2</td>\n",
       "    </tr>\n",
       "    <tr>\n",
       "      <th>2368</th>\n",
       "      <td>as-set_netaccess</td>\n",
       "      <td>AS-SET-NETACCESS</td>\n",
       "      <td>AS8317, AS41053</td>\n",
       "      <td>09-06-2008</td>\n",
       "      <td>RIPE</td>\n",
       "      <td>2</td>\n",
       "      <td>2</td>\n",
       "    </tr>\n",
       "    <tr>\n",
       "      <th>2369</th>\n",
       "      <td>AS-SET-GITGE</td>\n",
       "      <td>Gestora de Infraestructuras de Teleco...</td>\n",
       "      <td>AS37529, AS37173, AS37337, AS37487, AS37512, A...</td>\n",
       "      <td>27-02-2023</td>\n",
       "      <td>AFRINIC</td>\n",
       "      <td>10</td>\n",
       "      <td>10</td>\n",
       "    </tr>\n",
       "  </tbody>\n",
       "</table>\n",
       "<p>2370 rows × 7 columns</p>\n",
       "</div>"
      ],
      "text/plain": [
       "                            as-set  \\\n",
       "0     AS5592:AS-KHARKOV-IX:AS31069   \n",
       "1                  AS-SYSTAILOR-JN   \n",
       "2                         AS-ZEBRA   \n",
       "3                           AS-VSI   \n",
       "4                         AS-NAXEX   \n",
       "...                            ...   \n",
       "2365            AS-JYANG-UPSTREAMS   \n",
       "2366                AS-SARGASSO-DE   \n",
       "2367      AS134254:AS-SHAHINFINITE   \n",
       "2368              as-set_netaccess   \n",
       "2369                  AS-SET-GITGE   \n",
       "\n",
       "                                                  descr  \\\n",
       "0                        United Networks of Ukraine ISP   \n",
       "1                                                         \n",
       "2                                    Zebra Telecom AS's   \n",
       "3                                   VSI Voronezh AS Set   \n",
       "4                                                         \n",
       "...                                                 ...   \n",
       "2365                                                      \n",
       "2366         Sargasso Networks - announced from AS51983   \n",
       "2367                  Shah Infinite Solutions Pvt. Ltd.   \n",
       "2368                                   AS-SET-NETACCESS   \n",
       "2369           Gestora de Infraestructuras de Teleco...   \n",
       "\n",
       "                                                members last-modified  \\\n",
       "0                                        AS-UNU-KHARKOV    21-09-2004   \n",
       "1                                  AS204869, AS-INNOTIP    15-03-2022   \n",
       "2                                               AS15934    09-04-2015   \n",
       "3                                               AS21017    27-08-2013   \n",
       "4                                      AS15504, AS60590    03-06-2019   \n",
       "...                                                 ...           ...   \n",
       "2365                                   AS58057, AS31142    21-02-2022   \n",
       "2366                                            AS51983    25-08-2022   \n",
       "2367                                 AS134254, AS136284    27-12-2017   \n",
       "2368                                    AS8317, AS41053    09-06-2008   \n",
       "2369  AS37529, AS37173, AS37337, AS37487, AS37512, A...    27-02-2023   \n",
       "\n",
       "               source  AS_count  cone  \n",
       "0                RIPE         1     3  \n",
       "1                RIPE         2     2  \n",
       "2                RIPE         1     1  \n",
       "3                RIPE         1     1  \n",
       "4                RIPE         2     2  \n",
       "...               ...       ...   ...  \n",
       "2365             RIPE         2     2  \n",
       "2366             RIPE         1     1  \n",
       "2367            APNIC         2     2  \n",
       "2368             RIPE         2     2  \n",
       "2369          AFRINIC        10    10  \n",
       "\n",
       "[2370 rows x 7 columns]"
      ]
     },
     "execution_count": 74,
     "metadata": {},
     "output_type": "execute_result"
    }
   ],
   "source": [
    "df_for_classification"
   ]
  },
  {
   "cell_type": "code",
   "execution_count": 75,
   "metadata": {},
   "outputs": [],
   "source": [
    "df_for_classification.to_csv('df_for_classification.csv', index=False)"
   ]
  }
 ],
 "metadata": {
  "datalore": {
   "base_environment": "default",
   "computation_mode": "JUPYTER",
   "package_manager": "pip",
   "packages": [],
   "report_row_ids": [
    "fFy6fIyZtpVgfIpV2nT6S4",
    "pMMomToCm9AyW9NYNPy1HR",
    "tqqLnkTEt1V4boqpmwFjyH",
    "XJiyWLtagnjGVNDtVxKTjK",
    "qy45pp0KYY9d3O02rK4VpO",
    "Nde9kMLk4WzlhP8w2Tuz8k",
    "XqVVYWrEYGNZYwk8qldBF2",
    "I6dudK2epuIBw7Fe9yqIMj",
    "5oVUgmbTHpuAT8g7egx4ZD",
    "vymoDH3Db8FymDsmYh27LK",
    "H6wiK0OUqnLQHOdfeFF9lK",
    "kZai02YFb17m9K7NMC4CL9",
    "JrXgM6Gut0xjdI4cC1vH57",
    "AjnxEpAmQKEKh5s3hSQXvh",
    "7Eie7wwOZsDbkdrJI8RO6F",
    "HgROjZhor8h88FgB1Io8eB",
    "XwDn0oL1k5ObYoyfXKBzkX",
    "CiBJmELOAnqTqi8im0rJmb",
    "5MarDby8h43TichH4gsFTX",
    "oM2ceF2iEekkw6ldAvbNcL",
    "TimQNklIvOtssZEswIsSnR",
    "lgrIEtSrBTJK30obM6m5dd",
    "1pC53PGaoCrNF49xaymEYc",
    "qcwZpOctSdp8Kja9bt8ssO",
    "EYu2w2BjoCJqdcy94Gi993",
    "OMJ5TOkWlYL1PMqr4lKO8H",
    "ryyABXu4EurFnyOUmg48l9",
    "Z0uUwxOYJe6zwzTIercwXu",
    "rU1W1JwApeYhsIqoSJSPY3",
    "n5mmGrgVr9q5RAcSkWhegV",
    "9ixWgu2Kf6Y7GrOREs6E5m",
    "IeM2gYX9RCJfpnzyY6PTLa",
    "ymT96xEsPpRA0hIeQj3iSx",
    "XmEmi8rFH0xDn5jo1LE67j",
    "ak3feRGpijxM8Bz3zS2mUB",
    "PE3UOhyQj5kdhHz0AdOuB8",
    "Jjm7HagFgWknVC8vFQQnrN",
    "0dsGWlywqHQkqMMOoEj54o",
    "QjUAHTcJ666LDkPHDMEf47",
    "A0DvK9AbBSGeOrHH8NonSV",
    "ynWQYikYwwReRc4uvD94Lj",
    "DiQmIiOcdPZbf7rYP00x9s",
    "YfRPJQ0rpvhaJ6zOdG3dIl",
    "fvOcKXI5aTiRQNeCM7u9Yi",
    "VPFt3svtt7kll1eBX4c8sI",
    "vZnIWYZzXdTaxf3NrdyP3A",
    "R3Huf7dKmMf8snAq1EB7bB",
    "JbGnOBwhaaSKL1Lg7zRY5E",
    "TUxhiel0KHqDwPJozNv9Bp",
    "hXU6XjxtArbDt5VPYKt2wz",
    "5vUBVWWGWjTfAWaNPA4TNo"
   ],
   "version": 3
  },
  "kernelspec": {
   "display_name": "Python 3 (ipykernel)",
   "language": "python",
   "name": "python3"
  },
  "language_info": {
   "codemirror_mode": {
    "name": "ipython",
    "version": 3
   },
   "file_extension": ".py",
   "mimetype": "text/x-python",
   "name": "python",
   "nbconvert_exporter": "python",
   "pygments_lexer": "ipython3",
   "version": "3.10.6"
  }
 },
 "nbformat": 4,
 "nbformat_minor": 4
}
